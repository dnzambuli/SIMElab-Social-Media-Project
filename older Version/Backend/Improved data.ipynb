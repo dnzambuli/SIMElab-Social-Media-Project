{
 "cells": [
  {
   "cell_type": "code",
   "execution_count": 3,
   "id": "f0adcc9b",
   "metadata": {},
   "outputs": [],
   "source": [
    "import schedule\n",
    "import time\n",
    "import re\n",
    "import csv\n",
    "from bs4 import BeautifulSoup\n",
    "import requests"
   ]
  },
  {
   "cell_type": "code",
   "execution_count": 4,
   "id": "8e9e07bc",
   "metadata": {},
   "outputs": [],
   "source": [
    "import json"
   ]
  },
  {
   "cell_type": "markdown",
   "id": "2e7f6994",
   "metadata": {},
   "source": [
    "# tikiti.co.ke"
   ]
  },
  {
   "cell_type": "code",
   "execution_count": 21,
   "id": "1ac1650e",
   "metadata": {},
   "outputs": [],
   "source": [
    "def fetch_data(link, name):\n",
    "    '''\n",
    "    fetch_data\n",
    "    \n",
    "    A function that collects information from a link and appends it to a mongoDB\n",
    "    \n",
    "    input : link \n",
    "        a url that has the target information\n",
    "    output: name collection\n",
    "        a <name> mongoDB collection\n",
    "    '''\n",
    "    title_match = r'/e/(.*)'\n",
    "    try:\n",
    "        response = requests.get(link)\n",
    "        response.raise_for_status()\n",
    "        soup = BeautifulSoup(response.content, 'html.parser') # parse the html\n",
    "        \n",
    "        data = []\n",
    "        \n",
    "        for events in soup.find_all(\"div\", {\"class\" : 'card event'}):\n",
    "            title_tag = events.find('a')['href']\n",
    "            title = re.search(title_match, title_tag).group(1) if title_tag else \"Title Not Found\"\n",
    "            price_tag = events.find('h5')\n",
    "            price = price_tag.get_text(strip =True) if price_tag else \"Price Not Found\"\n",
    "            image_tag = events.find('img')\n",
    "            image = image_tag['data-original'] if image_tag else \"Image Not Found\"\n",
    "            url_tag = events.find('a')\n",
    "            url = url_tag['href'] if url_tag else \"Link Not Found\"\n",
    "            \n",
    "            data.append({\"title\": title,\n",
    "                        \"price\": price,\n",
    "                        \"image_link\": image,\n",
    "                        \"event_link\": url})\n",
    "            \n",
    "        file = str(name) + \".json\"\n",
    "        with open(file, 'w') as f:\n",
    "            json.dump(data, f, indent = 5)\n",
    "        print(\"Data has been added\")\n",
    "    except Exception as e:\n",
    "        print(\"Error fetching or appending data:\", e)\n",
    "    \n",
    "    "
   ]
  },
  {
   "cell_type": "code",
   "execution_count": 22,
   "id": "c44b3571",
   "metadata": {},
   "outputs": [
    {
     "name": "stdout",
     "output_type": "stream",
     "text": [
      "Data has been added\n"
     ]
    }
   ],
   "source": [
    "samp_link = \"https://tikiti.co.ke/\"\n",
    "fetch_data(samp_link, \"tikiti\")"
   ]
  },
  {
   "cell_type": "markdown",
   "id": "359cfa0e",
   "metadata": {},
   "source": [
    "## Tikiti Data \n",
    "\n",
    "Tikiti is a ticketing site that updates daily so \n",
    "\n",
    "- Tikiti is to be run `once` a day"
   ]
  },
  {
   "cell_type": "code",
   "execution_count": 23,
   "id": "0a536ad8",
   "metadata": {},
   "outputs": [],
   "source": [
    "def tikiti_job():\n",
    "    '''\n",
    "    collects the data from tikiti once a day\n",
    "    '''\n",
    "    samp_link = \"https://tikiti.co.ke/\"\n",
    "    fetch_data(samp_link, \"tikiti\")"
   ]
  },
  {
   "cell_type": "markdown",
   "id": "ce89f5fe",
   "metadata": {},
   "source": [
    "# pulse Celeb  "
   ]
  },
  {
   "cell_type": "code",
   "execution_count": null,
   "id": "4e60a1d5",
   "metadata": {},
   "outputs": [],
   "source": [
    "def fetch_pulse_celeb(link, name):\n",
    "    '''\n",
    "    fetch_data\n",
    "    \n",
    "    A function that collects information from a link and appends it to a mongoDB\n",
    "    \n",
    "    input : link \n",
    "        a url that has the target information\n",
    "    output: name collection\n",
    "        a <name> mongoDB collection\n",
    "    '''\n",
    "    title_match = r'/e/(.*)'\n",
    "    try:\n",
    "        response = requests.get(link)\n",
    "        response.raise_for_status()\n",
    "        soup = BeautifulSoup(response.content, 'html.parser') # parse the html\n",
    "        \n",
    "        data = []\n",
    "        \n",
    "        for events in soup.find_all(\"div\", {\"class\" : 'card event'}):\n",
    "            title_tag = events.find('a')['href']\n",
    "            title = re.search(title_match, title_tag).group(1) if title_tag else \"Title Not Found\"\n",
    "            price_tag = events.find('h5')\n",
    "            price = price_tag.get_text(strip =True) if price_tag else \"Price Not Found\"\n",
    "            image_tag = events.find('img')\n",
    "            image = image_tag['data-original'] if image_tag else \"Image Not Found\"\n",
    "            url_tag = events.find('a')\n",
    "            url = url_tag['href'] if url_tag else \"Link Not Found\"\n",
    "            \n",
    "            data.append({\"title\": title,\n",
    "                        \"price\": price,\n",
    "                        \"image_link\": image,\n",
    "                        \"event_link\": url})\n",
    "            \n",
    "        file = str(name) + \".json\"\n",
    "        with open(file, 'w') as f:\n",
    "            json.dump(data, f, indent = 5)\n",
    "        print(\"Data has been added\")\n",
    "    except Exception as e:\n",
    "        print(\"Error fetching or appending data:\", e)\n",
    "    "
   ]
  },
  {
   "cell_type": "code",
   "execution_count": null,
   "id": "5b300e23",
   "metadata": {},
   "outputs": [],
   "source": [
    "# Schedule the tikiti to function once a day\n",
    "schedule.every().day.at(\"00:00\").do(tikiti_job)\n",
    "\n",
    "# Run the scheduler indefinitely\n",
    "while True:\n",
    "    schedule.run_pending()\n",
    "    time.sleep(1)"
   ]
  }
 ],
 "metadata": {
  "kernelspec": {
   "display_name": "Python 3 (ipykernel)",
   "language": "python",
   "name": "python3"
  },
  "language_info": {
   "codemirror_mode": {
    "name": "ipython",
    "version": 3
   },
   "file_extension": ".py",
   "mimetype": "text/x-python",
   "name": "python",
   "nbconvert_exporter": "python",
   "pygments_lexer": "ipython3",
   "version": "3.11.5"
  }
 },
 "nbformat": 4,
 "nbformat_minor": 5
}
